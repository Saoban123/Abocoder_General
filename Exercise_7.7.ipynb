{
 "cells": [
  {
   "cell_type": "code",
   "execution_count": 1,
   "id": "9a6dd0da",
   "metadata": {},
   "outputs": [
    {
     "name": "stdout",
     "output_type": "stream",
     "text": [
      "Enter a list of integers: [1,2,3,45]\n",
      "[1, 2, 3, 45]\n"
     ]
    }
   ],
   "source": [
    "\n",
    "num = eval(input(\"Enter a list of integers: \"))\n",
    "\n",
    "\n",
    "print(num)"
   ]
  },
  {
   "cell_type": "code",
   "execution_count": 2,
   "id": "0029a555",
   "metadata": {},
   "outputs": [
    {
     "name": "stdout",
     "output_type": "stream",
     "text": [
      "[1, 3, 45]\n"
     ]
    }
   ],
   "source": [
    "num.remove(2)\n",
    "print(num)"
   ]
  },
  {
   "cell_type": "code",
   "execution_count": 6,
   "id": "973448ff",
   "metadata": {},
   "outputs": [
    {
     "name": "stdout",
     "output_type": "stream",
     "text": [
      "[63, 53, 11, 46, 13, 23, 15, 1, 54, 65, 68, 61, 28, 100, 27, 81, 27, 58, 13, 12]\n"
     ]
    }
   ],
   "source": [
    "import random\n",
    "lit = []\n",
    "\n",
    "for i in range (20):\n",
    "    lit.append(random.randint(0,101))\n",
    "print(lit)\n"
   ]
  },
  {
   "cell_type": "code",
   "execution_count": 9,
   "id": "4a341a4c",
   "metadata": {},
   "outputs": [
    {
     "name": "stdout",
     "output_type": "stream",
     "text": [
      "40.95\n"
     ]
    }
   ],
   "source": [
    "avg = sum(lit)/len(lit)\n",
    "print(avg)"
   ]
  },
  {
   "cell_type": "code",
   "execution_count": 10,
   "id": "9009f77f",
   "metadata": {},
   "outputs": [
    {
     "name": "stdout",
     "output_type": "stream",
     "text": [
      "81\n"
     ]
    }
   ],
   "source": [
    "lit.sort()\n",
    "print(lit[])"
   ]
  },
  {
   "cell_type": "code",
   "execution_count": 11,
   "id": "ace08dd9",
   "metadata": {},
   "outputs": [
    {
     "name": "stdout",
     "output_type": "stream",
     "text": [
      "[8, 9, 10]\n"
     ]
    }
   ],
   "source": [
    "#lists\n",
    "L = [8,9,10]\n",
    "print(L)\n"
   ]
  },
  {
   "cell_type": "code",
   "execution_count": 16,
   "id": "d250b8bf",
   "metadata": {},
   "outputs": [
    {
     "name": "stdout",
     "output_type": "stream",
     "text": [
      "[8, 9, 10, 8, 9, 10]\n"
     ]
    }
   ],
   "source": [
    "M = L*2\n",
    "print(M)"
   ]
  },
  {
   "cell_type": "code",
   "execution_count": 18,
   "id": "01418708",
   "metadata": {},
   "outputs": [
    {
     "name": "stdout",
     "output_type": "stream",
     "text": [
      "[8, 9, 10, 25, 8, 9, 10, 3]\n"
     ]
    }
   ],
   "source": [
    "M.insert(3,25)\n",
    "print(M)"
   ]
  },
  {
   "cell_type": "code",
   "execution_count": null,
   "id": "701c8722",
   "metadata": {},
   "outputs": [],
   "source": []
  }
 ],
 "metadata": {
  "kernelspec": {
   "display_name": "Python 3",
   "language": "python",
   "name": "python3"
  },
  "language_info": {
   "codemirror_mode": {
    "name": "ipython",
    "version": 3
   },
   "file_extension": ".py",
   "mimetype": "text/x-python",
   "name": "python",
   "nbconvert_exporter": "python",
   "pygments_lexer": "ipython3",
   "version": "3.8.8"
  }
 },
 "nbformat": 4,
 "nbformat_minor": 5
}
