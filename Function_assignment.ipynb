{
 "cells": [
  {
   "cell_type": "code",
   "execution_count": 1,
   "id": "aea1b2c2",
   "metadata": {},
   "outputs": [
    {
     "name": "stdout",
     "output_type": "stream",
     "text": [
      "['apple!', 'banana!', 'cherry!']\n"
     ]
    }
   ],
   "source": [
    "# 2b\n",
    "new_fruit = []\n",
    "def add_excitement(fruits):\n",
    "    for x in fruits:\n",
    "        new_fruit.append(x + '!')\n",
    "    print(new_fruit)\n",
    "fruits = ['apple', 'banana', 'cherry']\n",
    "add_excitement(fruits)\n",
    "    "
   ]
  },
  {
   "cell_type": "code",
   "execution_count": 1,
   "id": "553b6e8d",
   "metadata": {},
   "outputs": [
    {
     "name": "stdout",
     "output_type": "stream",
     "text": [
      "Enter number: 45893\n",
      "Digit =  2\n"
     ]
    }
   ],
   "source": [
    "# 4\n",
    "n = eval(input('Enter number: '))\n",
    "s = sum(int(i) for i in str(n))\n",
    "ans = s % 9 \n",
    "if ans:\n",
    "    print('Digit = ', ans)"
   ]
  },
  {
   "cell_type": "code",
   "execution_count": null,
   "id": "04e38eb3",
   "metadata": {},
   "outputs": [],
   "source": []
  }
 ],
 "metadata": {
  "kernelspec": {
   "display_name": "Python 3",
   "language": "python",
   "name": "python3"
  },
  "language_info": {
   "codemirror_mode": {
    "name": "ipython",
    "version": 3
   },
   "file_extension": ".py",
   "mimetype": "text/x-python",
   "name": "python",
   "nbconvert_exporter": "python",
   "pygments_lexer": "ipython3",
   "version": "3.8.8"
  }
 },
 "nbformat": 4,
 "nbformat_minor": 5
}
