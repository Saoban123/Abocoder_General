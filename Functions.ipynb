{
 "cells": [
  {
   "cell_type": "markdown",
   "id": "8509ac72",
   "metadata": {},
   "source": [
    "## Functions"
   ]
  },
  {
   "cell_type": "code",
   "execution_count": 1,
   "id": "02788ed5",
   "metadata": {},
   "outputs": [
    {
     "name": "stdout",
     "output_type": "stream",
     "text": [
      "Hello World\n"
     ]
    }
   ],
   "source": [
    "def my_function():\n",
    "    print('Hello World')\n",
    "my_function()"
   ]
  },
  {
   "cell_type": "code",
   "execution_count": 4,
   "id": "e562c25a",
   "metadata": {},
   "outputs": [
    {
     "name": "stdout",
     "output_type": "stream",
     "text": [
      "Saoban Lateefat\n"
     ]
    }
   ],
   "source": [
    "def my_function(fname):\n",
    "    print(fname + ' Lateefat')\n",
    "my_function('Saoban')"
   ]
  },
  {
   "cell_type": "code",
   "execution_count": 8,
   "id": "dbfd2efc",
   "metadata": {},
   "outputs": [
    {
     "name": "stdout",
     "output_type": "stream",
     "text": [
      "Saoban lateefat\n"
     ]
    }
   ],
   "source": [
    "def my_function(fname, lname):\n",
    "    print(fname, lname)\n",
    "my_function('Saoban', 'lateefat')"
   ]
  },
  {
   "cell_type": "code",
   "execution_count": 11,
   "id": "2d1031f8",
   "metadata": {},
   "outputs": [
    {
     "name": "stdout",
     "output_type": "stream",
     "text": [
      "Saoban Lateefat LS\n"
     ]
    }
   ],
   "source": [
    "# whenever we don't know how many parameters we would be needing we use *\n",
    "\n",
    "def my_function(* names):\n",
    "    print(names[0] + names[1] + names[2])\n",
    "my_function('Saoban',' Lateefat', ' LS')"
   ]
  },
  {
   "cell_type": "code",
   "execution_count": 13,
   "id": "556dd37f",
   "metadata": {},
   "outputs": [
    {
     "name": "stdout",
     "output_type": "stream",
     "text": [
      " Saoban Lateefat LS\n"
     ]
    }
   ],
   "source": [
    "# Key word argument\n",
    "def my_function(child1, child2, child3):\n",
    "    print(child1 + child2 + child3)\n",
    "my_function(child3 = ' LS', child1 = ' Saoban', child2 = ' Lateefat')"
   ]
  },
  {
   "cell_type": "code",
   "execution_count": 16,
   "id": "340f0269",
   "metadata": {},
   "outputs": [
    {
     "name": "stdout",
     "output_type": "stream",
     "text": [
      "My last name is:  Lateefat\n"
     ]
    }
   ],
   "source": [
    "# Arbitrary key word argument\n",
    "def my_function(**sibling):\n",
    "    print('My last name is: ' + sibling['lname'])\n",
    "my_function(fname = 'Saoban', lname = ' Lateefat', mname = 'LS')"
   ]
  },
  {
   "cell_type": "code",
   "execution_count": 18,
   "id": "84678a07",
   "metadata": {},
   "outputs": [
    {
     "name": "stdout",
     "output_type": "stream",
     "text": [
      "I am from Nigeria\n",
      "I am from Paris\n"
     ]
    }
   ],
   "source": [
    "# Default Parameter Value\n",
    "# N.B -- Functions are also called Methods\n",
    "# N.B -- Parameters are also called Argument\n",
    "\n",
    "def my_function(country = 'Nigeria'):\n",
    "    print('I am from ' + country)\n",
    "my_function()\n",
    "my_function('Paris')"
   ]
  },
  {
   "cell_type": "code",
   "execution_count": 23,
   "id": "57e161a1",
   "metadata": {},
   "outputs": [
    {
     "name": "stdout",
     "output_type": "stream",
     "text": [
      "apple banana cherry "
     ]
    }
   ],
   "source": [
    "# Passing a list as an argument\n",
    "def my_function(food):\n",
    "    for x in food:\n",
    "        print(x, end = ' ')\n",
    "fruits = ['apple', 'banana', 'cherry']\n",
    "my_function(fruits)"
   ]
  },
  {
   "cell_type": "code",
   "execution_count": 27,
   "id": "70c605f6",
   "metadata": {},
   "outputs": [
    {
     "name": "stdout",
     "output_type": "stream",
     "text": [
      "['apple', 'banana', 'cherry']\n"
     ]
    }
   ],
   "source": [
    "new_list = []\n",
    "def my_function(food):\n",
    "    \n",
    "    for x in food:\n",
    "        new_list.append(x)\n",
    "    print(new_list)\n",
    "fruits = ['apple', 'banana', 'cherry']\n",
    "my_function(fruits)"
   ]
  },
  {
   "cell_type": "code",
   "execution_count": 30,
   "id": "b2c86dff",
   "metadata": {},
   "outputs": [
    {
     "data": {
      "text/plain": [
       "3.0"
      ]
     },
     "execution_count": 30,
     "metadata": {},
     "output_type": "execute_result"
    }
   ],
   "source": [
    "# Functions to return value\n",
    "def my_function(a, b, c):\n",
    "    z = (a + b + c)/ 3\n",
    "    return z\n",
    "my_function(2,3,4)"
   ]
  },
  {
   "cell_type": "code",
   "execution_count": 41,
   "id": "9ef758ef",
   "metadata": {},
   "outputs": [
    {
     "name": "stdout",
     "output_type": "stream",
     "text": [
      "['apple!', 'banana!', 'cherry!']\n"
     ]
    }
   ],
   "source": [
    "new_fruit = []\n",
    "def add_excitement(fruits):\n",
    "    for x in fruits:\n",
    "        new_fruit.append(x + '!')\n",
    "    print(new_fruit)\n",
    "fruits = ['apple', 'banana', 'cherry']\n",
    "add_excitement(fruits)\n",
    "    "
   ]
  },
  {
   "cell_type": "code",
   "execution_count": 53,
   "id": "700ebd8f",
   "metadata": {},
   "outputs": [
    {
     "name": "stdout",
     "output_type": "stream",
     "text": [
      "['apple!', 'banana!', 'cherry!']\n"
     ]
    }
   ],
   "source": [
    "def add_excitement(fruits):\n",
    "    i = 0\n",
    "    for x in fruits:\n",
    "        fruits[i] = fruits[i] + '!'\n",
    "        i += 1\n",
    "    print(fruits)\n",
    "fruits = ['apple', 'banana', 'cherry']\n",
    "add_excitement(fruits)\n",
    "    "
   ]
  },
  {
   "cell_type": "code",
   "execution_count": null,
   "id": "571e297e",
   "metadata": {},
   "outputs": [],
   "source": []
  }
 ],
 "metadata": {
  "kernelspec": {
   "display_name": "Python 3",
   "language": "python",
   "name": "python3"
  },
  "language_info": {
   "codemirror_mode": {
    "name": "ipython",
    "version": 3
   },
   "file_extension": ".py",
   "mimetype": "text/x-python",
   "name": "python",
   "nbconvert_exporter": "python",
   "pygments_lexer": "ipython3",
   "version": "3.8.8"
  }
 },
 "nbformat": 4,
 "nbformat_minor": 5
}
