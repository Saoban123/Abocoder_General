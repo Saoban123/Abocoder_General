{
 "cells": [
  {
   "cell_type": "code",
   "execution_count": 1,
   "id": "bdb720c0",
   "metadata": {},
   "outputs": [
    {
     "name": "stdout",
     "output_type": "stream",
     "text": [
      "{'Ten': 10, 'Twenty': 20, 'Thirty': 30}\n"
     ]
    }
   ],
   "source": [
    "#Conversion of list to a dictionary\n",
    "keys = ['Ten', 'Twenty','Thirty']\n",
    "values = [10, 20, 30]\n",
    "\n",
    "Dictionary = dict(zip(keys, values))\n",
    "print(Dictionary)"
   ]
  },
  {
   "cell_type": "code",
   "execution_count": 2,
   "id": "5ee097ce",
   "metadata": {},
   "outputs": [
    {
     "name": "stdout",
     "output_type": "stream",
     "text": [
      "{'Ten': 10, 'Twenty': 20, 'Thirty': 30, 'Fourty': 40, 'Fifty': 50}\n"
     ]
    }
   ],
   "source": [
    "#Merging of two dictionaries together\n",
    "dict1 = {'Ten' : 10, 'Twenty' : 20, 'Thirty' : 30}\n",
    "dict2 = {'Thirty' : 30, 'Fourty' : 40, 'Fifty' : 50}\n",
    "\n",
    "dict3 ={**dict1, **dict2}\n",
    "print(dict3)"
   ]
  },
  {
   "cell_type": "code",
   "execution_count": 4,
   "id": "1ad59eff",
   "metadata": {},
   "outputs": [
    {
     "name": "stdout",
     "output_type": "stream",
     "text": [
      "80\n"
     ]
    }
   ],
   "source": [
    "#Accessing the value of key 'History'\n",
    "SampleDict = {\n",
    "    'Class' : {\n",
    "        'Student' : {\n",
    "            'name' : 'Mike',\n",
    "            'marks' : {\n",
    "                'physics' : 70,\n",
    "                'history' : 80\n",
    "            }\n",
    "        }\n",
    "    }\n",
    "}\n",
    "\n",
    "print(SampleDict['Class']['Student']['marks']['history'])"
   ]
  },
  {
   "cell_type": "code",
   "execution_count": 5,
   "id": "5fe20ac7",
   "metadata": {},
   "outputs": [
    {
     "name": "stdout",
     "output_type": "stream",
     "text": [
      "{'Kelly': {'designation': 'Application Developer', 'salary': 8000}, 'Emma': {'designation': 'Application Developer', 'salary': 8000}, 'John': {'designation': 'Application Developer', 'salary': 8000}}\n"
     ]
    }
   ],
   "source": [
    "#Initializing a dictionary with default values\n",
    "employees = ['Kelly', 'Emma', 'John']\n",
    "defaults = {'designation' : 'Application Developer', 'salary' : 8000}\n",
    "\n",
    "Dictionary = dict.fromkeys(employees, defaults)\n",
    "print(Dictionary)"
   ]
  },
  {
   "cell_type": "code",
   "execution_count": 6,
   "id": "dfe5df40",
   "metadata": {},
   "outputs": [
    {
     "name": "stdout",
     "output_type": "stream",
     "text": [
      "{'name': 'Kelly', 'salary': 8000}\n"
     ]
    }
   ],
   "source": [
    "#Creating a new dictionary\n",
    "sampleDict = {\n",
    "    'name' : 'Kelly',\n",
    "    'age' : 2,\n",
    "    'salary' : 8000,\n",
    "    'city' : 'New york'\n",
    "}\n",
    "\n",
    "keys = ['name', 'salary']\n",
    "Dict = {k: sampleDict[k] for k in keys}\n",
    "print(Dict)"
   ]
  },
  {
   "cell_type": "code",
   "execution_count": 7,
   "id": "9dc61bd1",
   "metadata": {},
   "outputs": [
    {
     "name": "stdout",
     "output_type": "stream",
     "text": [
      "{'age': 25, 'city': 'New york'}\n"
     ]
    }
   ],
   "source": [
    "#Deleting Set of keys\n",
    "sampleDict = {\n",
    "    'name' : 'Kelly',\n",
    "    'age' : 25,\n",
    "    'salary' : 8000,\n",
    "    'city' : 'New york'\n",
    " }\n",
    "keysToRemove = ['name', 'salary']\n",
    "\n",
    "sampleDict.pop('name')\n",
    "sampleDict.pop('salary')\n",
    "\n",
    "print(sampleDict)\n"
   ]
  },
  {
   "cell_type": "code",
   "execution_count": 9,
   "id": "40f81fd1",
   "metadata": {},
   "outputs": [
    {
     "name": "stdout",
     "output_type": "stream",
     "text": [
      "True\n"
     ]
    }
   ],
   "source": [
    "#Checking if a value 200 exist in the dictionary\n",
    "sampleDict = {'a' : 100, 'b' : 200, 'c' : 300}\n",
    "values = sampleDict.values()\n",
    "\n",
    "if 200 in values:\n",
    "    print(True)\n",
    "else:\n",
    "    print(False)\n",
    "\n",
    "#print(200 in sampleDict.values())"
   ]
  },
  {
   "cell_type": "code",
   "execution_count": 14,
   "id": "55db5ece",
   "metadata": {},
   "outputs": [
    {
     "name": "stdout",
     "output_type": "stream",
     "text": [
      "{'name': 'Kelly', 'age': 25, 'salary': 8000, 'location': 'New york'}\n"
     ]
    }
   ],
   "source": [
    "#Rename Key city to location\n",
    "sampleDict = {\n",
    "    'name' : 'Kelly',\n",
    "    'age' : 25,\n",
    "    'salary' : 8000,\n",
    "    'city' : 'New york'\n",
    "}\n",
    "\n",
    "sampleDict['location'] = sampleDict.pop('city')\n",
    "print(sampleDict)"
   ]
  },
  {
   "cell_type": "code",
   "execution_count": 19,
   "id": "9559973b",
   "metadata": {},
   "outputs": [
    {
     "name": "stdout",
     "output_type": "stream",
     "text": [
      "Math\n"
     ]
    }
   ],
   "source": [
    "#Keys of Minimum Values\n",
    "sampleDict = {\n",
    "    'Physics' : 82,\n",
    "    'Math' : 65,\n",
    "    'history' : 75\n",
    "}\n",
    "print(min(sampleDict, key = sampleDict.get))"
   ]
  },
  {
   "cell_type": "code",
   "execution_count": 21,
   "id": "6dfa9bc4",
   "metadata": {},
   "outputs": [
    {
     "name": "stdout",
     "output_type": "stream",
     "text": [
      "{'emp1': {'name': 'Jhon', 'salary': 7500}, 'emp2': {'name': 'Emma', 'salary': 8000}, 'emp3': {'name': 'Brad', 'salary': 8500}}\n"
     ]
    }
   ],
   "source": [
    "#Changing Brad's salary to 8500\n",
    "sampleDict = {\n",
    "    'emp1' : {'name' : 'Jhon', 'salary' : 7500},\n",
    "    'emp2' : {'name' : 'Emma', 'salary' : 8000},\n",
    "    'emp3' : {'name' : 'Brad', 'salary' :6500}\n",
    "}\n",
    "\n",
    "sampleDict['emp3']['salary'] = 8500\n",
    "print(sampleDict)"
   ]
  },
  {
   "cell_type": "code",
   "execution_count": null,
   "id": "54b08ac6",
   "metadata": {},
   "outputs": [],
   "source": []
  }
 ],
 "metadata": {
  "kernelspec": {
   "display_name": "Python 3",
   "language": "python",
   "name": "python3"
  },
  "language_info": {
   "codemirror_mode": {
    "name": "ipython",
    "version": 3
   },
   "file_extension": ".py",
   "mimetype": "text/x-python",
   "name": "python",
   "nbconvert_exporter": "python",
   "pygments_lexer": "ipython3",
   "version": "3.8.8"
  }
 },
 "nbformat": 4,
 "nbformat_minor": 5
}
