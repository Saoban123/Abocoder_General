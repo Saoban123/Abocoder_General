{
 "cells": [
  {
   "cell_type": "markdown",
   "id": "313650d6",
   "metadata": {},
   "source": [
    "#### Question 1 (python basics, variable names, Operators,...)"
   ]
  },
  {
   "cell_type": "code",
   "execution_count": 1,
   "id": "ceb36e31",
   "metadata": {},
   "outputs": [
    {
     "name": "stdout",
     "output_type": "stream",
     "text": [
      "250.0\n"
     ]
    }
   ],
   "source": [
    "height = 50\n",
    "base = 10\n",
    "\n",
    "AreaOfTriangle = (0.5 * base * height)\n",
    "print(AreaOfTriangle)"
   ]
  },
  {
   "cell_type": "markdown",
   "id": "0a67bd0a",
   "metadata": {},
   "source": [
    "#### Question 2 (Lists, Tuples, Dictionary, Set)"
   ]
  },
  {
   "cell_type": "code",
   "execution_count": 5,
   "id": "d0aab37d",
   "metadata": {},
   "outputs": [
    {
     "name": "stdout",
     "output_type": "stream",
     "text": [
      "{'yusuf', 'ade'}\n",
      "{'lolade', 'yusuf', 'ade', 'lola', 'sola', 'bola', 'musa'}\n",
      "{'lolade', 'lola', 'sola', 'bola', 'musa'}\n"
     ]
    }
   ],
   "source": [
    "# 2a\n",
    "first_name = {'ade', 'bola', 'musa', 'sola', 'yusuf'}\n",
    "last_name = {'lola', 'yusuf', 'ade', 'lolade'}\n",
    "\n",
    "# i\n",
    "intersection = first_name & last_name\n",
    "print(intersection)\n",
    "\n",
    "# ii\n",
    "union = first_name | last_name\n",
    "print(union)\n",
    "\n",
    "# iii\n",
    "SymmetricDifference = first_name ^ last_name\n",
    "print(SymmetricDifference)\n",
    "\n",
    "# 2b\n",
    "fruits = ('apple', 'pineapple', 'cherry')\n",
    "#i We cannot add to tuple\n",
    "#ii We cannot delete from a tuple"
   ]
  },
  {
   "cell_type": "markdown",
   "id": "5c029216",
   "metadata": {},
   "source": [
    "#### Question 3 (Conditionals and loops)"
   ]
  },
  {
   "cell_type": "code",
   "execution_count": 1,
   "id": "442dfab9",
   "metadata": {},
   "outputs": [
    {
     "name": "stdout",
     "output_type": "stream",
     "text": [
      "Enter temperature in Celcius: 99\n",
      "Temperature is in the normal range\n"
     ]
    }
   ],
   "source": [
    "# a\n",
    "temp = eval(input('Enter temperature in Celcius: '))\n",
    "if temp < -273.15:\n",
    "    print('The temperature is invalid because it is below absolute temperature')\n",
    "elif temp == -273.15:\n",
    "    print('The temperature absolute is absolute 0')\n",
    "elif (temp > -273.15 and temp < 0):\n",
    "    print('Temperature is below freezing')\n",
    "elif temp == 0:\n",
    "    print('Temperature is at freezing point')\n",
    "elif (temp > 0 and temp < 100):\n",
    "    print('Temperature is in the normal range')\n",
    "elif temp == 100:\n",
    "    print('Temperature is at boiling point')\n",
    "else:\n",
    "    print('Temperature ia above boiling point')\n",
    "    "
   ]
  },
  {
   "cell_type": "code",
   "execution_count": 6,
   "id": "7f1da9db",
   "metadata": {},
   "outputs": [
    {
     "name": "stdout",
     "output_type": "stream",
     "text": [
      "How many items do you want to buy: 100\n",
      "Total cost = $  700\n"
     ]
    }
   ],
   "source": [
    "# 3b\n",
    "items = eval(input('How many items do you want to buy: '))\n",
    "\n",
    "if items < 10:\n",
    "    print('Total cost = $ ', items * 12)\n",
    "elif (items > 9 and items < 100):\n",
    "    print('Total cost = $ ', items * 10)\n",
    "else:\n",
    "    print('Total cost = $ ', items * 7)"
   ]
  },
  {
   "cell_type": "markdown",
   "id": "b281e513",
   "metadata": {},
   "source": [
    "#### Qestion 4 (Python Functions)"
   ]
  },
  {
   "cell_type": "code",
   "execution_count": 13,
   "id": "560aa06c",
   "metadata": {},
   "outputs": [
    {
     "name": "stdout",
     "output_type": "stream",
     "text": [
      "Enter time in minutes: 40\n",
      "Minute in seconds =  2400 seconds\n"
     ]
    }
   ],
   "source": [
    "# 4a\n",
    "minutes = eval(input('Enter time in minutes: '))\n",
    "def time(minutes):\n",
    "    print('Minute in seconds = ', minutes * 60, 'seconds')\n",
    "time(minutes)"
   ]
  },
  {
   "cell_type": "code",
   "execution_count": 10,
   "id": "ecb363dd",
   "metadata": {},
   "outputs": [
    {
     "name": "stdout",
     "output_type": "stream",
     "text": [
      "Enter the car speed: 23\n",
      "OK\n"
     ]
    }
   ],
   "source": [
    "# 4b\n",
    "speed = eval(input('Enter the car speed: '))\n",
    "def car(speed):\n",
    "    if speed < 70:\n",
    "        print('OK')\n",
    "    else:\n",
    "        points = (speed - 70)/5\n",
    "        print('You earned ', points, 'points')\n",
    "        if points > 12:\n",
    "            print('License Suspended')\n",
    "car(speed)\n"
   ]
  },
  {
   "cell_type": "code",
   "execution_count": 33,
   "id": "fb32c877",
   "metadata": {},
   "outputs": [
    {
     "name": "stdout",
     "output_type": "stream",
     "text": [
      "Enter the limit number: 3\n",
      "0 EVEN\n",
      "1 ODD\n",
      "2 EVEN\n",
      "3 ODD\n"
     ]
    }
   ],
   "source": [
    "# 4c\n",
    "limit = eval(input('Enter the limit number: '))\n",
    "def showNumbers(limit):\n",
    "    for i in range(0, limit + 1):\n",
    "        if (i % 2 == 0):\n",
    "            print(f'{i} EVEN')\n",
    "        else:\n",
    "            print(f'{i} ODD')\n",
    "showNumbers(limit)"
   ]
  },
  {
   "cell_type": "code",
   "execution_count": null,
   "id": "b8d20f2d",
   "metadata": {},
   "outputs": [],
   "source": []
  }
 ],
 "metadata": {
  "kernelspec": {
   "display_name": "Python 3",
   "language": "python",
   "name": "python3"
  },
  "language_info": {
   "codemirror_mode": {
    "name": "ipython",
    "version": 3
   },
   "file_extension": ".py",
   "mimetype": "text/x-python",
   "name": "python",
   "nbconvert_exporter": "python",
   "pygments_lexer": "ipython3",
   "version": "3.8.8"
  }
 },
 "nbformat": 4,
 "nbformat_minor": 5
}
