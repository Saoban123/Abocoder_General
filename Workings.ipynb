{
 "cells": [
  {
   "cell_type": "code",
   "execution_count": 65,
   "id": "2ebfd11a",
   "metadata": {},
   "outputs": [
    {
     "name": "stdout",
     "output_type": "stream",
     "text": [
      "[3, 6, 9, 12, 15]\n"
     ]
    }
   ],
   "source": [
    "# 2a\n",
    "x = [1, 2, 3, 4, 5]\n",
    "y = [11, 12, 13, 14, 15]\n",
    "z = (21, 22, 23, 24, 25)\n",
    "\n",
    "mult = [i*3 for i in x]\n",
    "print(mult)"
   ]
  },
  {
   "cell_type": "code",
   "execution_count": 66,
   "id": "b9220baf",
   "metadata": {},
   "outputs": [
    {
     "name": "stdout",
     "output_type": "stream",
     "text": [
      "[12, 14, 16, 18, 20]\n"
     ]
    }
   ],
   "source": [
    "# 2b\n",
    "add = [sum(i) for i in zip(x, y)]\n",
    "print(add)"
   ]
  },
  {
   "cell_type": "code",
   "execution_count": 67,
   "id": "7564bf3f",
   "metadata": {},
   "outputs": [
    {
     "name": "stdout",
     "output_type": "stream",
     "text": [
      "[-10, -10, -10, -10, -10]\n"
     ]
    }
   ],
   "source": [
    "# 2c\n",
    "sub = [ i1 - i2 for (i1 , i2) in zip(x, y)]\n",
    "print(sub)"
   ]
  },
  {
   "cell_type": "code",
   "execution_count": null,
   "id": "79998aa6",
   "metadata": {},
   "outputs": [],
   "source": []
  },
  {
   "cell_type": "code",
   "execution_count": 4,
   "id": "c7d2e0d6",
   "metadata": {},
   "outputs": [
    {
     "name": "stdout",
     "output_type": "stream",
     "text": [
      "How many numbers are in first list: \t20\n",
      "How many numbers are in second list: \t20\n",
      "\n",
      "First sets of numbers: \t [3, 83, 48, 91, 32, 78, 13, 100, 73, 3, 44, 30, 44, 93, 71, 69, 16, 83, 24, 52]\n",
      "\n",
      "Second sets of numbers: \t [7, 67, 100, 46, 85, 31, 54, 37, 8, 44, 96, 61, 5, 46, 83, 23, 8, 20, 2, 21]\n",
      "\n",
      "Addition of numbers: \t [10, 150, 148, 137, 117, 109, 67, 137, 81, 47, 140, 91, 49, 139, 154, 92, 24, 103, 26, 73]\n"
     ]
    }
   ],
   "source": [
    "import random\n",
    "\n",
    "value1 = eval(input('How many numbers are in first list: \\t'))\n",
    "value2 = eval(input('How many numbers are in second list: \\t'))\n",
    "\n",
    "import random\n",
    "p = []\n",
    "q = []\n",
    "\n",
    "\n",
    "for i in range (value1):\n",
    "    p.append(random.randint(0,100))\n",
    "print()\n",
    "print('First sets of numbers: \\t', p)\n",
    "\n",
    "for i in range (value2):\n",
    "    q.append(random.randint(0,100))\n",
    "print()\n",
    "print('Second sets of numbers: \\t', q)\n",
    "\n",
    "add = [sum(i) for i in zip(p, q)]\n",
    "print()\n",
    "print('Addition of numbers: \\t', add)\n",
    "\n",
    "\n",
    "\n",
    "\n"
   ]
  },
  {
   "cell_type": "code",
   "execution_count": 3,
   "id": "4f705523",
   "metadata": {},
   "outputs": [
    {
     "name": "stdout",
     "output_type": "stream",
     "text": [
      "Enter any number: \t28\n",
      "This number is a perfect number!!\n"
     ]
    }
   ],
   "source": [
    "n = eval(input('Enter any number: \\t'))\n",
    "sum1 = 0\n",
    "for i in range(1, n):\n",
    "    if (n % i == 0):\n",
    "        sum1 = sum1 + i\n",
    "if (sum1 == n):\n",
    "    print('This number is a perfect number!!')\n",
    "        \n",
    "else:\n",
    "    print(\"This number is not a perfect number!!\")\n",
    "            \n",
    "    "
   ]
  },
  {
   "cell_type": "code",
   "execution_count": 3,
   "id": "9a3e3fcd",
   "metadata": {},
   "outputs": [
    {
     "name": "stdout",
     "output_type": "stream",
     "text": [
      "6\n",
      "28\n"
     ]
    }
   ],
   "source": [
    "for p in range (1,100):\n",
    "    sum = 0\n",
    "    for i in range (1, p-1):\n",
    "        if (p % i == 0):\n",
    "            sum = sum + i\n",
    "    if (sum == p):\n",
    "        print(p ) #, ' ' , end = '')\n",
    "    "
   ]
  },
  {
   "cell_type": "code",
   "execution_count": 5,
   "id": "44c258f8",
   "metadata": {},
   "outputs": [
    {
     "name": "stdout",
     "output_type": "stream",
     "text": [
      "Enter any minimum value: \t1\n",
      "Enter any maximum value: \t1000\n",
      "Perfect Number between 1 to 1000\n",
      "6\n",
      "28\n",
      "496\n"
     ]
    }
   ],
   "source": [
    "# Take the input from the user\n",
    "MinValue = eval(input('Enter any minimum value: \\t'))\n",
    "MaxValue = eval(input('Enter any maximum value: \\t'))\n",
    "\n",
    "# initialising Sum\n",
    "print(f'Perfect Number between {MinValue} to {MaxValue}') \n",
    "\n",
    "# checking the Perfect Number\n",
    "for Number in range (MinValue, MaxValue - 1):\n",
    "    sum = 0\n",
    "    for n in range (1, Number - 1):\n",
    "        if (Number % n == 0):\n",
    "            sum = sum + n\n",
    "    if (sum == Number):\n",
    "        print(Number ) #, ' ' , end = '')\n",
    "    \n"
   ]
  },
  {
   "cell_type": "code",
   "execution_count": 14,
   "id": "52dc3080",
   "metadata": {},
   "outputs": [
    {
     "name": "stdout",
     "output_type": "stream",
     "text": [
      "Enter a number: 12346\n",
      "1\n",
      "2\n",
      "3\n",
      "4\n",
      "6\n"
     ]
    }
   ],
   "source": [
    "number = eval(input('Enter a number: '))\n",
    "number = str(number)\n",
    "\n",
    "for num in number:\n",
    "    print(num)\n"
   ]
  },
  {
   "cell_type": "code",
   "execution_count": 24,
   "id": "d6e16e4f",
   "metadata": {},
   "outputs": [
    {
     "name": "stdout",
     "output_type": "stream",
     "text": [
      "How many number: 4\n",
      "Enter numbers: 1\n",
      "Enter numbers: 2\n",
      "Enter numbers: 3\n",
      "Enter numbers: 4\n",
      "Sum of numbers =  10\n"
     ]
    }
   ],
   "source": [
    "lst = []\n",
    "num = eval(input('How many number: '))\n",
    "for n in range(num):\n",
    "    numbers = eval(input('Enter numbers: '))\n",
    "    lst.append(numbers)\n",
    "print('Sum of numbers = ', sum(lst))"
   ]
  },
  {
   "cell_type": "code",
   "execution_count": 3,
   "id": "c6123eb2",
   "metadata": {},
   "outputs": [
    {
     "name": "stdout",
     "output_type": "stream",
     "text": [
      "Enter numbers: 1,2,3,4\n",
      "10\n"
     ]
    }
   ],
   "source": [
    "num = eval(input('Enter numbers: '))\n",
    "#num = list(num)\n",
    "print(sum(num))"
   ]
  },
  {
   "cell_type": "code",
   "execution_count": 4,
   "id": "a84e0f68",
   "metadata": {},
   "outputs": [
    {
     "name": "stdout",
     "output_type": "stream",
     "text": [
      "Enter numbers: 1,2\n",
      "3\n"
     ]
    }
   ],
   "source": [
    "\n",
    "num = eval(input('Enter numbers: '))\n",
    "print(sum(num))"
   ]
  },
  {
   "cell_type": "code",
   "execution_count": 36,
   "id": "7ff6ee94",
   "metadata": {},
   "outputs": [
    {
     "name": "stdout",
     "output_type": "stream",
     "text": [
      "Enter number: 123467890\n",
      "Digit =  4\n"
     ]
    }
   ],
   "source": [
    "n = eval(input('Enter number: '))\n",
    "s = sum(int(i) for i in str(n))\n",
    "ans = s % 9 \n",
    "if ans:\n",
    "    print('Digit = ', ans)"
   ]
  },
  {
   "cell_type": "code",
   "execution_count": null,
   "id": "aea04fef",
   "metadata": {},
   "outputs": [],
   "source": []
  }
 ],
 "metadata": {
  "kernelspec": {
   "display_name": "Python 3",
   "language": "python",
   "name": "python3"
  },
  "language_info": {
   "codemirror_mode": {
    "name": "ipython",
    "version": 3
   },
   "file_extension": ".py",
   "mimetype": "text/x-python",
   "name": "python",
   "nbconvert_exporter": "python",
   "pygments_lexer": "ipython3",
   "version": "3.8.8"
  }
 },
 "nbformat": 4,
 "nbformat_minor": 5
}
