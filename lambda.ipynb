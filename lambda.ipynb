{
 "cells": [
  {
   "cell_type": "markdown",
   "id": "88056fb7",
   "metadata": {},
   "source": [
    "##### lambda function is also a function but it is an anonymous function \n",
    "##### it is called anonymous function cause it doesn't have a def name, lambda follows the rule  lambda arg : expression\n"
   ]
  },
  {
   "cell_type": "code",
   "execution_count": 1,
   "id": "279e50b9",
   "metadata": {},
   "outputs": [
    {
     "name": "stdout",
     "output_type": "stream",
     "text": [
      "15\n"
     ]
    },
    {
     "data": {
      "text/plain": [
       "' If we are to write this in function , it will be \\ndef x(a):\\n    print(a + 10)\\nx(5)\\n'"
      ]
     },
     "execution_count": 1,
     "metadata": {},
     "output_type": "execute_result"
    }
   ],
   "source": [
    "x = lambda a : a + 10\n",
    "print(x(5))\n",
    "\n",
    "''' If we are to write this in function , it will be \n",
    "def x(a):\n",
    "    print(a + 10)\n",
    "x(5)\n",
    "'''"
   ]
  },
  {
   "cell_type": "code",
   "execution_count": 2,
   "id": "31c053c3",
   "metadata": {},
   "outputs": [
    {
     "name": "stdout",
     "output_type": "stream",
     "text": [
      "30\n"
     ]
    }
   ],
   "source": [
    "# Multiplication in lambda\n",
    "x = lambda a, b : a * b\n",
    "print(x(5, 6))\n"
   ]
  },
  {
   "cell_type": "code",
   "execution_count": 3,
   "id": "df3f712f",
   "metadata": {},
   "outputs": [
    {
     "name": "stdout",
     "output_type": "stream",
     "text": [
      "22\n"
     ]
    }
   ],
   "source": [
    "# lambda can also be used inside normal function\n",
    "def myfunction(n):\n",
    "    return lambda a : a * n\n",
    "mydoubler = myfunction(2)\n",
    "\n",
    "print(mydoubler(11))"
   ]
  },
  {
   "cell_type": "code",
   "execution_count": 4,
   "id": "36449357",
   "metadata": {},
   "outputs": [
    {
     "name": "stdout",
     "output_type": "stream",
     "text": [
      "22\n",
      "33\n"
     ]
    }
   ],
   "source": [
    "def myfunction(n):\n",
    "    return lambda a : a * n\n",
    "mydoubler = myfunction(2)\n",
    "mytripler = myfunction(3)\n",
    "\n",
    "print(mydoubler(11))\n",
    "print(mytripler(11))"
   ]
  },
  {
   "cell_type": "markdown",
   "id": "e756e4a4",
   "metadata": {},
   "source": [
    "### Arrays\n",
    "###### Arrays handle much more data sets than lists "
   ]
  },
  {
   "cell_type": "code",
   "execution_count": 5,
   "id": "403a93fc",
   "metadata": {},
   "outputs": [
    {
     "name": "stdout",
     "output_type": "stream",
     "text": [
      "<class 'list'>\n"
     ]
    }
   ],
   "source": [
    "cars = ['Ford', 'Volvo', 'BMW']\n",
    "\n",
    "print(type(cars))"
   ]
  },
  {
   "cell_type": "markdown",
   "id": "d6e0227d",
   "metadata": {},
   "source": [
    "### Classes / Objects"
   ]
  },
  {
   "cell_type": "markdown",
   "id": "93d18d6f",
   "metadata": {},
   "source": [
    "<ul> \n",
    "    <li> procedural programming </li>\n",
    "    <li> Object - oriented programming </li>\n",
    "</ul> \n",
    "\n",
    "<h6> OOP is a method of structuring a program by bundling related properties and behaviours into individual objects </h6>"
   ]
  },
  {
   "cell_type": "markdown",
   "id": "bdbd036d",
   "metadata": {},
   "source": [
    "### Class\n",
    "\n",
    "###### Class is a blue-print of an object, A class must always have properties and methods \n",
    " <h6> e.g of properties : name, age, behaviour\n",
    " N:B -- A class also follows the rule of variable, but the only difference is that a class starts with capital letter.\n",
    "  </h6>\n",
    "     \n"
   ]
  },
  {
   "cell_type": "code",
   "execution_count": 4,
   "id": "59b437ee",
   "metadata": {},
   "outputs": [
    {
     "name": "stdout",
     "output_type": "stream",
     "text": [
      "Saoban\n",
      "I am walking\n"
     ]
    }
   ],
   "source": [
    "# To declare a class , we use\n",
    "\n",
    "class Person:\n",
    "    x = 4\n",
    "    def __init__(self, name):# ------- N:B -- this is the function(methods) \n",
    "        self.name = name #------------- N:B -- this is the properties(argument)\n",
    "        print(self.name)\n",
    "    def walk(self, w):\n",
    "        self.walk = w\n",
    "        print(self.walk)\n",
    "# To call a class one have to create an object\n",
    "# An object is used to call the methods\n",
    "p1 = Person('Saoban')\n",
    "p1.x\n",
    "p1.walk('I am walking')\n",
    "# N.B -- P1 here is the initialization(Object)\n",
    "\n",
    "    "
   ]
  },
  {
   "cell_type": "markdown",
   "id": "721a5a3e",
   "metadata": {},
   "source": [
    "## Inheritance\n",
    "##### Inheritance is a process by which one class takes the attributes and methods of another\n",
    "##### N:B -- Here we have more than one class\n",
    "##### properties is also known as attributes also known as argument\n",
    "#####  methods is also known as behaviour also known as functions\n",
    "\n",
    "##### Here , we have the parent class --- Base Class and the Child class --- Derived Class"
   ]
  },
  {
   "cell_type": "code",
   "execution_count": 12,
   "id": "02f8e43c",
   "metadata": {},
   "outputs": [
    {
     "name": "stdout",
     "output_type": "stream",
     "text": [
      "Male and is 12 years old\n",
      "I am walking\n"
     ]
    }
   ],
   "source": [
    "class Child(Person):\n",
    "    def __init__(self, age, sex):\n",
    "        self.age = age\n",
    "        self.sex = sex\n",
    "        print(f'{self.sex} and is {self.age} years old')\n",
    "    def run(self):\n",
    "        return(self.walk)\n",
    "            \n",
    "mychild = Child(12, 'Male')\n",
    "mychild.run()\n",
    "mychild.walk('I am walking')"
   ]
  },
  {
   "cell_type": "code",
   "execution_count": 1,
   "id": "ab7cd02a",
   "metadata": {},
   "outputs": [
    {
     "data": {
      "text/plain": [
       "1402832.07936"
      ]
     },
     "execution_count": 1,
     "metadata": {},
     "output_type": "execute_result"
    }
   ],
   "source": [
    "class Investment:\n",
    "    def __init__(self, principal, interest):\n",
    "        self.p = principal\n",
    "        self.i = interest\n",
    "    def value_after(self, n):\n",
    "        self.n = n\n",
    "        value = self.p * ((1 + self.i) ** self.n)\n",
    "        return value\n",
    "    def __str__(self):\n",
    "        return('Principal - $', self.p,',', 'Interest rate - ', self.i, '%')\n",
    "inv = Investment(1000, 5.12)\n",
    "inv.value_after(4)"
   ]
  },
  {
   "cell_type": "code",
   "execution_count": null,
   "id": "7ed96371",
   "metadata": {},
   "outputs": [],
   "source": []
  }
 ],
 "metadata": {
  "kernelspec": {
   "display_name": "Python 3",
   "language": "python",
   "name": "python3"
  },
  "language_info": {
   "codemirror_mode": {
    "name": "ipython",
    "version": 3
   },
   "file_extension": ".py",
   "mimetype": "text/x-python",
   "name": "python",
   "nbconvert_exporter": "python",
   "pygments_lexer": "ipython3",
   "version": "3.8.8"
  }
 },
 "nbformat": 4,
 "nbformat_minor": 5
}
